{
  "nbformat": 4,
  "nbformat_minor": 0,
  "metadata": {
    "colab": {
      "name": "Predicting Attrition Rate.ipynb",
      "provenance": [],
      "collapsed_sections": []
    },
    "kernelspec": {
      "name": "python3",
      "display_name": "Python 3"
    }
  },
  "cells": [
    {
      "cell_type": "code",
      "metadata": {
        "id": "zPGoZpzU9GQF"
      },
      "source": [
        "import pandas as pd\n",
        "import numpy as np\n",
        "from sklearn.impute import SimpleImputer\n",
        "from sklearn import preprocessing\n",
        "from sklearn.model_selection import train_test_split\n",
        "from sklearn import linear_model\n",
        "from sklearn.linear_model import LinearRegression\n",
        "from sklearn.ensemble import RandomForestRegressor\n",
        "from sklearn.linear_model import SGDRegressor\n",
        "from sklearn.pipeline import make_pipeline\n",
        "from sklearn.preprocessing import StandardScaler\n",
        "from sklearn.linear_model import PassiveAggressiveRegressor\n",
        "from sklearn.metrics import mean_squared_error\n",
        "from sklearn.metrics import mean_absolute_error\n",
        "from sklearn.datasets import make_regression\n",
        "from sklearn.model_selection import train_test_split\n",
        "from sklearn.feature_selection import SelectKBest\n",
        "from sklearn.feature_selection import f_regression\n",
        "from sklearn.feature_selection import mutual_info_regression\n",
        "from matplotlib import pyplot\n",
        "from sklearn.feature_selection import RFE\n",
        "from sklearn.svm import SVR\n",
        "from sklearn import datasets, ensemble\n",
        "from sklearn.ensemble import GradientBoostingRegressor"
      ],
      "execution_count": null,
      "outputs": []
    },
    {
      "cell_type": "code",
      "metadata": {
        "id": "zvIsXdWC9a8D",
        "outputId": "b1243cf3-ad51-468c-d0bd-5c1b1ab820ea",
        "colab": {
          "base_uri": "https://localhost:8080/",
          "height": 224
        }
      },
      "source": [
        "#Loading the train and test sets\n",
        "\n",
        "data=pd.read_csv('Train.csv')\n",
        "test=pd.read_csv('Test.csv')\n",
        "test.head()"
      ],
      "execution_count": null,
      "outputs": [
        {
          "output_type": "execute_result",
          "data": {
            "text/html": [
              "<div>\n",
              "<style scoped>\n",
              "    .dataframe tbody tr th:only-of-type {\n",
              "        vertical-align: middle;\n",
              "    }\n",
              "\n",
              "    .dataframe tbody tr th {\n",
              "        vertical-align: top;\n",
              "    }\n",
              "\n",
              "    .dataframe thead th {\n",
              "        text-align: right;\n",
              "    }\n",
              "</style>\n",
              "<table border=\"1\" class=\"dataframe\">\n",
              "  <thead>\n",
              "    <tr style=\"text-align: right;\">\n",
              "      <th></th>\n",
              "      <th>Employee_ID</th>\n",
              "      <th>Gender</th>\n",
              "      <th>Age</th>\n",
              "      <th>Education_Level</th>\n",
              "      <th>Relationship_Status</th>\n",
              "      <th>Hometown</th>\n",
              "      <th>Unit</th>\n",
              "      <th>Decision_skill_possess</th>\n",
              "      <th>Time_of_service</th>\n",
              "      <th>Time_since_promotion</th>\n",
              "      <th>growth_rate</th>\n",
              "      <th>Travel_Rate</th>\n",
              "      <th>Post_Level</th>\n",
              "      <th>Pay_Scale</th>\n",
              "      <th>Compensation_and_Benefits</th>\n",
              "      <th>Work_Life_balance</th>\n",
              "      <th>VAR1</th>\n",
              "      <th>VAR2</th>\n",
              "      <th>VAR3</th>\n",
              "      <th>VAR4</th>\n",
              "      <th>VAR5</th>\n",
              "      <th>VAR6</th>\n",
              "      <th>VAR7</th>\n",
              "    </tr>\n",
              "  </thead>\n",
              "  <tbody>\n",
              "    <tr>\n",
              "      <th>0</th>\n",
              "      <td>EID_22713</td>\n",
              "      <td>F</td>\n",
              "      <td>32.0</td>\n",
              "      <td>5</td>\n",
              "      <td>Single</td>\n",
              "      <td>Springfield</td>\n",
              "      <td>R&amp;D</td>\n",
              "      <td>Conceptual</td>\n",
              "      <td>7.0</td>\n",
              "      <td>4</td>\n",
              "      <td>30</td>\n",
              "      <td>1</td>\n",
              "      <td>5</td>\n",
              "      <td>4.0</td>\n",
              "      <td>type2</td>\n",
              "      <td>1.0</td>\n",
              "      <td>3</td>\n",
              "      <td>-0.9612</td>\n",
              "      <td>-0.4537</td>\n",
              "      <td>2.0</td>\n",
              "      <td>1</td>\n",
              "      <td>8</td>\n",
              "      <td>4</td>\n",
              "    </tr>\n",
              "    <tr>\n",
              "      <th>1</th>\n",
              "      <td>EID_9658</td>\n",
              "      <td>M</td>\n",
              "      <td>65.0</td>\n",
              "      <td>2</td>\n",
              "      <td>Single</td>\n",
              "      <td>Lebanon</td>\n",
              "      <td>IT</td>\n",
              "      <td>Directive</td>\n",
              "      <td>41.0</td>\n",
              "      <td>2</td>\n",
              "      <td>72</td>\n",
              "      <td>1</td>\n",
              "      <td>1</td>\n",
              "      <td>1.0</td>\n",
              "      <td>type2</td>\n",
              "      <td>1.0</td>\n",
              "      <td>4</td>\n",
              "      <td>-0.9612</td>\n",
              "      <td>0.7075</td>\n",
              "      <td>1.0</td>\n",
              "      <td>2</td>\n",
              "      <td>8</td>\n",
              "      <td>2</td>\n",
              "    </tr>\n",
              "    <tr>\n",
              "      <th>2</th>\n",
              "      <td>EID_22203</td>\n",
              "      <td>M</td>\n",
              "      <td>52.0</td>\n",
              "      <td>3</td>\n",
              "      <td>Married</td>\n",
              "      <td>Springfield</td>\n",
              "      <td>Sales</td>\n",
              "      <td>Directive</td>\n",
              "      <td>21.0</td>\n",
              "      <td>3</td>\n",
              "      <td>25</td>\n",
              "      <td>0</td>\n",
              "      <td>1</td>\n",
              "      <td>8.0</td>\n",
              "      <td>type3</td>\n",
              "      <td>1.0</td>\n",
              "      <td>4</td>\n",
              "      <td>-0.1048</td>\n",
              "      <td>0.7075</td>\n",
              "      <td>2.0</td>\n",
              "      <td>1</td>\n",
              "      <td>9</td>\n",
              "      <td>3</td>\n",
              "    </tr>\n",
              "    <tr>\n",
              "      <th>3</th>\n",
              "      <td>EID_7652</td>\n",
              "      <td>M</td>\n",
              "      <td>50.0</td>\n",
              "      <td>5</td>\n",
              "      <td>Single</td>\n",
              "      <td>Washington</td>\n",
              "      <td>Marketing</td>\n",
              "      <td>Analytical</td>\n",
              "      <td>11.0</td>\n",
              "      <td>4</td>\n",
              "      <td>28</td>\n",
              "      <td>1</td>\n",
              "      <td>1</td>\n",
              "      <td>2.0</td>\n",
              "      <td>type0</td>\n",
              "      <td>4.0</td>\n",
              "      <td>3</td>\n",
              "      <td>-0.1048</td>\n",
              "      <td>0.7075</td>\n",
              "      <td>2.0</td>\n",
              "      <td>2</td>\n",
              "      <td>8</td>\n",
              "      <td>3</td>\n",
              "    </tr>\n",
              "    <tr>\n",
              "      <th>4</th>\n",
              "      <td>EID_6516</td>\n",
              "      <td>F</td>\n",
              "      <td>44.0</td>\n",
              "      <td>3</td>\n",
              "      <td>Married</td>\n",
              "      <td>Franklin</td>\n",
              "      <td>R&amp;D</td>\n",
              "      <td>Conceptual</td>\n",
              "      <td>12.0</td>\n",
              "      <td>4</td>\n",
              "      <td>47</td>\n",
              "      <td>1</td>\n",
              "      <td>3</td>\n",
              "      <td>2.0</td>\n",
              "      <td>type2</td>\n",
              "      <td>4.0</td>\n",
              "      <td>4</td>\n",
              "      <td>1.6081</td>\n",
              "      <td>0.7075</td>\n",
              "      <td>2.0</td>\n",
              "      <td>2</td>\n",
              "      <td>7</td>\n",
              "      <td>4</td>\n",
              "    </tr>\n",
              "  </tbody>\n",
              "</table>\n",
              "</div>"
            ],
            "text/plain": [
              "  Employee_ID Gender   Age  Education_Level  ... VAR4 VAR5 VAR6 VAR7\n",
              "0   EID_22713      F  32.0                5  ...  2.0    1    8    4\n",
              "1    EID_9658      M  65.0                2  ...  1.0    2    8    2\n",
              "2   EID_22203      M  52.0                3  ...  2.0    1    9    3\n",
              "3    EID_7652      M  50.0                5  ...  2.0    2    8    3\n",
              "4    EID_6516      F  44.0                3  ...  2.0    2    7    4\n",
              "\n",
              "[5 rows x 23 columns]"
            ]
          },
          "metadata": {
            "tags": []
          },
          "execution_count": 234
        }
      ]
    },
    {
      "cell_type": "code",
      "metadata": {
        "id": "IPpDc4FS9kbi"
      },
      "source": [
        "#Exploratory data analysis(EDA) on the train set\n",
        "\n",
        "\n",
        "#data['Unit'].unique()\n",
        "cat = data.select_dtypes(include=['O'])\n",
        "cat.apply(pd.Series.nunique)\n",
        "test.isnull().sum()\n",
        "#data['VAR3'].value_counts()\n",
        "#data['Pay_Scale'].mean()\n",
        "#data.isnull().sum()"
      ],
      "execution_count": null,
      "outputs": []
    },
    {
      "cell_type": "code",
      "metadata": {
        "id": "LrgxScB290m6"
      },
      "source": [
        "#Filling missing values in training data using mean/mode\n",
        "\n",
        "data['Age'].fillna(data['Age'].mean(),inplace=True)\n",
        "data['Time_of_service'].fillna(data['Time_of_service'].mean(),inplace=True)\n",
        "data['Work_Life_balance'].fillna(data['Work_Life_balance'].mean(),inplace=True)\n",
        "data['VAR2'].fillna(data['VAR2'].mean(),inplace=True)\n",
        "data['VAR4'].fillna(data['VAR4'].value_counts().idxmax(),inplace=True)\n",
        "data['Pay_Scale'].fillna(data['Pay_Scale'].mean(),inplace=True)\n",
        "data.isnull().sum()"
      ],
      "execution_count": null,
      "outputs": []
    },
    {
      "cell_type": "code",
      "metadata": {
        "id": "fyknZh2JiYrO"
      },
      "source": [
        "data['Age'].fillna(data['Age'].mode().iloc[0],inplace=True)\n",
        "data['Time_of_service'].fillna(data['Time_of_service'].mode().iloc[0],inplace=True)\n",
        "data['Work_Life_balance'].fillna(data['Work_Life_balance'].mode().iloc[0],inplace=True)\n",
        "data['VAR2'].fillna(data['VAR2'].mode().iloc[0],inplace=True)\n",
        "data['VAR4'].fillna(data['VAR4'].value_counts().idxmax(),inplace=True)\n",
        "data['Pay_Scale'].fillna(data['Pay_Scale'].mode().iloc[0],inplace=True)\n",
        "#data.isnull().sum()"
      ],
      "execution_count": null,
      "outputs": []
    },
    {
      "cell_type": "code",
      "metadata": {
        "id": "Iuw5flw6z_T0"
      },
      "source": [
        "#Filling missing values in the test data\n",
        "\n",
        "test['Age'].fillna(test['Age'].mode().iloc[0],inplace=True)\n",
        "test['Time_of_service'].fillna(test['Time_of_service'].mode().iloc[0],inplace=True)\n",
        "test['Work_Life_balance'].fillna(test['Work_Life_balance'].mode().iloc[0],inplace=True)\n",
        "test['VAR2'].fillna(test['VAR2'].mode().iloc[0],inplace=True)\n",
        "test['VAR4'].fillna(test['VAR4'].value_counts().idxmax(),inplace=True)\n",
        "test['Pay_Scale'].fillna(test['Pay_Scale'].mode().iloc[0],inplace=True)"
      ],
      "execution_count": null,
      "outputs": []
    },
    {
      "cell_type": "code",
      "metadata": {
        "id": "YCUUf_Nl_O27"
      },
      "source": [
        "#Using label encoder for categorical variables\n",
        "\n",
        "for x in data.columns:\n",
        "    if data[x].dtype == 'object':\n",
        "        lbl = preprocessing.LabelEncoder()\n",
        "        lbl.fit(list(data[x].values))\n",
        "        data[x] = lbl.transform(list(data[x].values))\n",
        "#data.isnull().sum()\n",
        "\n",
        "\n",
        "for x in test.columns:\n",
        "    if(x=='Employee_ID') :\n",
        "        continue\n",
        "    if test[x].dtype == 'object':\n",
        "        lbl = preprocessing.LabelEncoder()\n",
        "        lbl.fit(list(test[x].values))\n",
        "        test[x] = lbl.transform(list(test[x].values))\n",
        "#test.isnull().sum()"
      ],
      "execution_count": null,
      "outputs": []
    },
    {
      "cell_type": "code",
      "metadata": {
        "id": "G2HB5fjT-5KF"
      },
      "source": [
        "#Using One-hot encoding(OHE) for categorical variables\n",
        "\n",
        "data=pd.get_dummies(data, columns=[\"Gender\", \"Relationship_Status\",\"Hometown\",\"Unit\",\"Decision_skill_possess\",\"Compensation_and_Benefits\"], prefix=[\"gen\", \"Rel\",\"Town\",\"Unit\",\"Skill\",\"C&B\"])\n",
        "test=pd.get_dummies(test, columns=[\"Gender\", \"Relationship_Status\",\"Hometown\",\"Unit\",\"Decision_skill_possess\",\"Compensation_and_Benefits\"], prefix=[\"gen\", \"Rel\",\"Town\",\"Unit\",\"Skill\",\"C&B\"])"
      ],
      "execution_count": null,
      "outputs": []
    },
    {
      "cell_type": "code",
      "metadata": {
        "id": "QSiY_30HXIIY"
      },
      "source": [
        "#Creating train and test data \n",
        "\n",
        "X=data.loc[:,list(data.columns[1:23])]\n",
        "#+list(data.columns[18:48])\n",
        "Y=data.iloc[:,23]\n",
        "\n",
        "#Test data size is 0.5% since the actual testing is done by Hacker Earth\n",
        "X_train, X_test, Y_train, Y_test = train_test_split( X , Y , test_size = 0.005, random_state = 0,shuffle=True) "
      ],
      "execution_count": null,
      "outputs": []
    },
    {
      "cell_type": "code",
      "metadata": {
        "id": "4Ku4EcYQxOa6",
        "outputId": "b37996bd-0058-4704-ae23-ca4f978e4100",
        "colab": {
          "base_uri": "https://localhost:8080/",
          "height": 439
        }
      },
      "source": [
        "Xtest=test.iloc[:,1:23]\n",
        "Xtest"
      ],
      "execution_count": null,
      "outputs": [
        {
          "output_type": "execute_result",
          "data": {
            "text/html": [
              "<div>\n",
              "<style scoped>\n",
              "    .dataframe tbody tr th:only-of-type {\n",
              "        vertical-align: middle;\n",
              "    }\n",
              "\n",
              "    .dataframe tbody tr th {\n",
              "        vertical-align: top;\n",
              "    }\n",
              "\n",
              "    .dataframe thead th {\n",
              "        text-align: right;\n",
              "    }\n",
              "</style>\n",
              "<table border=\"1\" class=\"dataframe\">\n",
              "  <thead>\n",
              "    <tr style=\"text-align: right;\">\n",
              "      <th></th>\n",
              "      <th>Gender</th>\n",
              "      <th>Age</th>\n",
              "      <th>Education_Level</th>\n",
              "      <th>Relationship_Status</th>\n",
              "      <th>Hometown</th>\n",
              "      <th>Unit</th>\n",
              "      <th>Decision_skill_possess</th>\n",
              "      <th>Time_of_service</th>\n",
              "      <th>Time_since_promotion</th>\n",
              "      <th>growth_rate</th>\n",
              "      <th>Travel_Rate</th>\n",
              "      <th>Post_Level</th>\n",
              "      <th>Pay_Scale</th>\n",
              "      <th>Compensation_and_Benefits</th>\n",
              "      <th>Work_Life_balance</th>\n",
              "      <th>VAR1</th>\n",
              "      <th>VAR2</th>\n",
              "      <th>VAR3</th>\n",
              "      <th>VAR4</th>\n",
              "      <th>VAR5</th>\n",
              "      <th>VAR6</th>\n",
              "      <th>VAR7</th>\n",
              "    </tr>\n",
              "  </thead>\n",
              "  <tbody>\n",
              "    <tr>\n",
              "      <th>0</th>\n",
              "      <td>0</td>\n",
              "      <td>32.0</td>\n",
              "      <td>5</td>\n",
              "      <td>1</td>\n",
              "      <td>3</td>\n",
              "      <td>9</td>\n",
              "      <td>2</td>\n",
              "      <td>7.0</td>\n",
              "      <td>4</td>\n",
              "      <td>30</td>\n",
              "      <td>1</td>\n",
              "      <td>5</td>\n",
              "      <td>4.0</td>\n",
              "      <td>2</td>\n",
              "      <td>1.0</td>\n",
              "      <td>3</td>\n",
              "      <td>-0.9612</td>\n",
              "      <td>-0.4537</td>\n",
              "      <td>2.0</td>\n",
              "      <td>1</td>\n",
              "      <td>8</td>\n",
              "      <td>4</td>\n",
              "    </tr>\n",
              "    <tr>\n",
              "      <th>1</th>\n",
              "      <td>1</td>\n",
              "      <td>65.0</td>\n",
              "      <td>2</td>\n",
              "      <td>1</td>\n",
              "      <td>2</td>\n",
              "      <td>2</td>\n",
              "      <td>3</td>\n",
              "      <td>41.0</td>\n",
              "      <td>2</td>\n",
              "      <td>72</td>\n",
              "      <td>1</td>\n",
              "      <td>1</td>\n",
              "      <td>1.0</td>\n",
              "      <td>2</td>\n",
              "      <td>1.0</td>\n",
              "      <td>4</td>\n",
              "      <td>-0.9612</td>\n",
              "      <td>0.7075</td>\n",
              "      <td>1.0</td>\n",
              "      <td>2</td>\n",
              "      <td>8</td>\n",
              "      <td>2</td>\n",
              "    </tr>\n",
              "    <tr>\n",
              "      <th>2</th>\n",
              "      <td>1</td>\n",
              "      <td>52.0</td>\n",
              "      <td>3</td>\n",
              "      <td>0</td>\n",
              "      <td>3</td>\n",
              "      <td>10</td>\n",
              "      <td>3</td>\n",
              "      <td>21.0</td>\n",
              "      <td>3</td>\n",
              "      <td>25</td>\n",
              "      <td>0</td>\n",
              "      <td>1</td>\n",
              "      <td>8.0</td>\n",
              "      <td>3</td>\n",
              "      <td>1.0</td>\n",
              "      <td>4</td>\n",
              "      <td>-0.1048</td>\n",
              "      <td>0.7075</td>\n",
              "      <td>2.0</td>\n",
              "      <td>1</td>\n",
              "      <td>9</td>\n",
              "      <td>3</td>\n",
              "    </tr>\n",
              "    <tr>\n",
              "      <th>3</th>\n",
              "      <td>1</td>\n",
              "      <td>50.0</td>\n",
              "      <td>5</td>\n",
              "      <td>1</td>\n",
              "      <td>4</td>\n",
              "      <td>4</td>\n",
              "      <td>0</td>\n",
              "      <td>11.0</td>\n",
              "      <td>4</td>\n",
              "      <td>28</td>\n",
              "      <td>1</td>\n",
              "      <td>1</td>\n",
              "      <td>2.0</td>\n",
              "      <td>0</td>\n",
              "      <td>4.0</td>\n",
              "      <td>3</td>\n",
              "      <td>-0.1048</td>\n",
              "      <td>0.7075</td>\n",
              "      <td>2.0</td>\n",
              "      <td>2</td>\n",
              "      <td>8</td>\n",
              "      <td>3</td>\n",
              "    </tr>\n",
              "    <tr>\n",
              "      <th>4</th>\n",
              "      <td>0</td>\n",
              "      <td>44.0</td>\n",
              "      <td>3</td>\n",
              "      <td>0</td>\n",
              "      <td>1</td>\n",
              "      <td>9</td>\n",
              "      <td>2</td>\n",
              "      <td>12.0</td>\n",
              "      <td>4</td>\n",
              "      <td>47</td>\n",
              "      <td>1</td>\n",
              "      <td>3</td>\n",
              "      <td>2.0</td>\n",
              "      <td>2</td>\n",
              "      <td>4.0</td>\n",
              "      <td>4</td>\n",
              "      <td>1.6081</td>\n",
              "      <td>0.7075</td>\n",
              "      <td>2.0</td>\n",
              "      <td>2</td>\n",
              "      <td>7</td>\n",
              "      <td>4</td>\n",
              "    </tr>\n",
              "    <tr>\n",
              "      <th>...</th>\n",
              "      <td>...</td>\n",
              "      <td>...</td>\n",
              "      <td>...</td>\n",
              "      <td>...</td>\n",
              "      <td>...</td>\n",
              "      <td>...</td>\n",
              "      <td>...</td>\n",
              "      <td>...</td>\n",
              "      <td>...</td>\n",
              "      <td>...</td>\n",
              "      <td>...</td>\n",
              "      <td>...</td>\n",
              "      <td>...</td>\n",
              "      <td>...</td>\n",
              "      <td>...</td>\n",
              "      <td>...</td>\n",
              "      <td>...</td>\n",
              "      <td>...</td>\n",
              "      <td>...</td>\n",
              "      <td>...</td>\n",
              "      <td>...</td>\n",
              "      <td>...</td>\n",
              "    </tr>\n",
              "    <tr>\n",
              "      <th>2995</th>\n",
              "      <td>0</td>\n",
              "      <td>32.0</td>\n",
              "      <td>3</td>\n",
              "      <td>1</td>\n",
              "      <td>1</td>\n",
              "      <td>10</td>\n",
              "      <td>3</td>\n",
              "      <td>3.0</td>\n",
              "      <td>3</td>\n",
              "      <td>38</td>\n",
              "      <td>1</td>\n",
              "      <td>3</td>\n",
              "      <td>6.0</td>\n",
              "      <td>2</td>\n",
              "      <td>2.0</td>\n",
              "      <td>1</td>\n",
              "      <td>-0.1048</td>\n",
              "      <td>0.7075</td>\n",
              "      <td>1.0</td>\n",
              "      <td>4</td>\n",
              "      <td>7</td>\n",
              "      <td>4</td>\n",
              "    </tr>\n",
              "    <tr>\n",
              "      <th>2996</th>\n",
              "      <td>0</td>\n",
              "      <td>22.0</td>\n",
              "      <td>2</td>\n",
              "      <td>1</td>\n",
              "      <td>1</td>\n",
              "      <td>4</td>\n",
              "      <td>2</td>\n",
              "      <td>10.0</td>\n",
              "      <td>2</td>\n",
              "      <td>57</td>\n",
              "      <td>1</td>\n",
              "      <td>4</td>\n",
              "      <td>9.0</td>\n",
              "      <td>2</td>\n",
              "      <td>1.0</td>\n",
              "      <td>3</td>\n",
              "      <td>0.7516</td>\n",
              "      <td>0.7075</td>\n",
              "      <td>3.0</td>\n",
              "      <td>4</td>\n",
              "      <td>8</td>\n",
              "      <td>3</td>\n",
              "    </tr>\n",
              "    <tr>\n",
              "      <th>2997</th>\n",
              "      <td>0</td>\n",
              "      <td>60.0</td>\n",
              "      <td>4</td>\n",
              "      <td>1</td>\n",
              "      <td>2</td>\n",
              "      <td>3</td>\n",
              "      <td>0</td>\n",
              "      <td>35.0</td>\n",
              "      <td>1</td>\n",
              "      <td>69</td>\n",
              "      <td>0</td>\n",
              "      <td>2</td>\n",
              "      <td>9.0</td>\n",
              "      <td>3</td>\n",
              "      <td>3.0</td>\n",
              "      <td>3</td>\n",
              "      <td>-1.8176</td>\n",
              "      <td>-0.4537</td>\n",
              "      <td>2.0</td>\n",
              "      <td>4</td>\n",
              "      <td>8</td>\n",
              "      <td>4</td>\n",
              "    </tr>\n",
              "    <tr>\n",
              "      <th>2998</th>\n",
              "      <td>0</td>\n",
              "      <td>51.0</td>\n",
              "      <td>1</td>\n",
              "      <td>0</td>\n",
              "      <td>3</td>\n",
              "      <td>2</td>\n",
              "      <td>1</td>\n",
              "      <td>23.0</td>\n",
              "      <td>1</td>\n",
              "      <td>30</td>\n",
              "      <td>0</td>\n",
              "      <td>2</td>\n",
              "      <td>6.0</td>\n",
              "      <td>3</td>\n",
              "      <td>1.0</td>\n",
              "      <td>5</td>\n",
              "      <td>0.7516</td>\n",
              "      <td>-0.4537</td>\n",
              "      <td>2.0</td>\n",
              "      <td>3</td>\n",
              "      <td>9</td>\n",
              "      <td>2</td>\n",
              "    </tr>\n",
              "    <tr>\n",
              "      <th>2999</th>\n",
              "      <td>0</td>\n",
              "      <td>45.0</td>\n",
              "      <td>1</td>\n",
              "      <td>1</td>\n",
              "      <td>1</td>\n",
              "      <td>10</td>\n",
              "      <td>3</td>\n",
              "      <td>12.0</td>\n",
              "      <td>4</td>\n",
              "      <td>70</td>\n",
              "      <td>1</td>\n",
              "      <td>2</td>\n",
              "      <td>8.0</td>\n",
              "      <td>4</td>\n",
              "      <td>4.0</td>\n",
              "      <td>3</td>\n",
              "      <td>0.7516</td>\n",
              "      <td>-0.4537</td>\n",
              "      <td>2.0</td>\n",
              "      <td>2</td>\n",
              "      <td>8</td>\n",
              "      <td>5</td>\n",
              "    </tr>\n",
              "  </tbody>\n",
              "</table>\n",
              "<p>3000 rows × 22 columns</p>\n",
              "</div>"
            ],
            "text/plain": [
              "      Gender   Age  Education_Level  ...  VAR5  VAR6  VAR7\n",
              "0          0  32.0                5  ...     1     8     4\n",
              "1          1  65.0                2  ...     2     8     2\n",
              "2          1  52.0                3  ...     1     9     3\n",
              "3          1  50.0                5  ...     2     8     3\n",
              "4          0  44.0                3  ...     2     7     4\n",
              "...      ...   ...              ...  ...   ...   ...   ...\n",
              "2995       0  32.0                3  ...     4     7     4\n",
              "2996       0  22.0                2  ...     4     8     3\n",
              "2997       0  60.0                4  ...     4     8     4\n",
              "2998       0  51.0                1  ...     3     9     2\n",
              "2999       0  45.0                1  ...     2     8     5\n",
              "\n",
              "[3000 rows x 22 columns]"
            ]
          },
          "metadata": {
            "tags": []
          },
          "execution_count": 241
        }
      ]
    },
    {
      "cell_type": "code",
      "metadata": {
        "id": "WhnpbV39fCkW",
        "outputId": "4ac32eff-6903-4c02-f439-e7fb3c7f8eeb",
        "colab": {
          "base_uri": "https://localhost:8080/",
          "height": 102
        }
      },
      "source": [
        "#Using various feature selection techniques to get the features which give the maximum information\n",
        "\n",
        "fs = SelectKBest(score_func=mutual_info_regression, k= 'all')\n",
        "fs.fit(X_train,Y_train)\n",
        "fs.scores_\n",
        "X_train_fs=fs.transform(X_train)\n",
        "Xtest_fs=fs.transform(Xtest)\n",
        "X_test_fs=fs.transform(X_test)\n",
        "fs.scores_"
      ],
      "execution_count": null,
      "outputs": [
        {
          "output_type": "execute_result",
          "data": {
            "text/plain": [
              "array([0.00172403, 0.0136035 , 0.        , 0.        , 0.00714683,\n",
              "       0.00120465, 0.00521746, 0.        , 0.00436587, 0.01106973,\n",
              "       0.        , 0.        , 0.00610226, 0.        , 0.        ,\n",
              "       0.        , 0.01143245, 0.00877802, 0.        , 0.00072529,\n",
              "       0.00254051, 0.        ])"
            ]
          },
          "metadata": {
            "tags": []
          },
          "execution_count": 266
        }
      ]
    },
    {
      "cell_type": "code",
      "metadata": {
        "id": "03EkcKoScRH0",
        "outputId": "313b06d1-28aa-42da-ec0d-df9258461370",
        "colab": {
          "base_uri": "https://localhost:8080/",
          "height": 265
        }
      },
      "source": [
        "pyplot.bar([i for i in range(len(fs.scores_))], fs.scores_)\n",
        "pyplot.show()"
      ],
      "execution_count": null,
      "outputs": [
        {
          "output_type": "display_data",
          "data": {
            "image/png": "[encoded data removed]",
            "text/plain": [
              "<Figure size 432x288 with 1 Axes>"
            ]
          },
          "metadata": {
            "tags": [],
            "needs_background": "light"
          }
        }
      ]
    },
    {
      "cell_type": "markdown",
      "metadata": {
        "id": "oOz81zuDWwHG"
      },
      "source": [
        "Using various regression algorithms and hyperparameter tuning to get the best results"
      ]
    },
    {
      "cell_type": "code",
      "metadata": {
        "id": "-dOI_MrEcgny"
      },
      "source": [
        "\n",
        "reg =  LinearRegression().fit(X_train_fs, Y_train)\n",
        "reg.score(X_test_fs,Y_test)\n",
        "Y_pred=reg.predict(Xtest_fs)\n",
        "#score_train = mean_absolute_error(Y_test,Y_pred)\n",
        "#score_train"
      ],
      "execution_count": null,
      "outputs": []
    },
    {
      "cell_type": "code",
      "metadata": {
        "id": "2Tj_0FqNd0_W"
      },
      "source": [
        "regr = RandomForestRegressor(max_depth=2, random_state=0,n_estimators=100)\n",
        "regr.fit(X_train_fs, Y_train)\n",
        "regr.score(X_test_fs,Y_test)\n",
        "Y_pred=regr.predict(Xtest_fs)\n",
        "#score_train = mean_absolute_error(Y_test,Y_pred)\n",
        "#score_train"
      ],
      "execution_count": null,
      "outputs": []
    },
    {
      "cell_type": "code",
      "metadata": {
        "id": "G8JdTgzadnor"
      },
      "source": [
        "reg = make_pipeline(StandardScaler(),SGDRegressor(max_iter=10000, tol=1e-3))\n",
        "reg.fit(X_train_fs, Y_train)\n",
        "reg.score(X_test_fs,Y_test)\n",
        "Y_pred=reg.predict(Xtest_fs)\n",
        "#score_train = mean_squared_error(Y_test,Y_pred)\n",
        "#score_train"
      ],
      "execution_count": null,
      "outputs": []
    },
    {
      "cell_type": "code",
      "metadata": {
        "id": "h6BKlT_N79sv"
      },
      "source": [
        "regr = PassiveAggressiveRegressor(max_iter=100, random_state=0,tol=1e-3)\n",
        "regr.fit(X_train_fs, Y_train)\n",
        "regr.score(X_test_fs,Y_test)\n",
        "Y_pred=regr.predict(Xtest_fs)\n",
        "#score_train = mean_squared_error(Y_test,Y_pred)\n",
        "#score_train"
      ],
      "execution_count": null,
      "outputs": []
    },
    {
      "cell_type": "code",
      "metadata": {
        "id": "WrvJbkWgWnuB"
      },
      "source": [
        "regr = GradientBoostingRegressor(random_state=0)\n",
        "regr.fit(X_train_fs, Y_train)\n",
        "regr.score(X_test_fs,Y_test)\n",
        "Y_pred=regr.predict(Xtest_fs)"
      ],
      "execution_count": null,
      "outputs": []
    },
    {
      "cell_type": "code",
      "metadata": {
        "id": "TDgl-oT_0fO5",
        "outputId": "fca2e140-70ab-4adf-fc2f-07cf53cebc17",
        "colab": {
          "base_uri": "https://localhost:8080/",
          "height": 68
        }
      },
      "source": [
        "estimator = SVR(kernel=\"linear\")\n",
        "selector = RFE(estimator, n_features_to_select=10, step=1)\n",
        "selector = selector.fit(X_train, Y_train)\n",
        "selector.support_\n"
      ],
      "execution_count": null,
      "outputs": [
        {
          "output_type": "execute_result",
          "data": {
            "text/plain": [
              "array([ True, False,  True, False,  True, False,  True, False, False,\n",
              "       False, False,  True, False,  True, False,  True,  True,  True,\n",
              "        True, False, False, False])"
            ]
          },
          "metadata": {
            "tags": []
          },
          "execution_count": 58
        }
      ]
    },
    {
      "cell_type": "code",
      "metadata": {
        "id": "lfEA1zl57iFB"
      },
      "source": [
        "print(selector.ranking_)\n",
        "print(selector.score(X_train,Y_train))\n",
        "Y_pred=selector.predict(X_test)\n",
        "score_train = mean_squared_error(Y_test,Y_pred)\n",
        "score_train"
      ],
      "execution_count": null,
      "outputs": []
    },
    {
      "cell_type": "code",
      "metadata": {
        "id": "wGSxVT5F7nwR"
      },
      "source": [
        "#Creating final csv file with the test data and the predictions\n",
        "\n",
        "final_ans=test.iloc[:,0]\n",
        "final_ans=pd.DataFrame(final_ans)\n",
        "final_ans.insert(1,\"Attrition_rate\",Y_pred)\n",
        "final_ans.to_csv('ouputAllColumns.csv')"
      ],
      "execution_count": null,
      "outputs": []
    },
    {
      "cell_type": "code",
      "metadata": {
        "id": "gMYwlk651yS3",
        "outputId": "31e63e44-e8d9-47d1-b388-02c6ee3b20aa",
        "colab": {
          "base_uri": "https://localhost:8080/",
          "height": 34
        }
      },
      "source": [
        "final_ans[final_ans.Attrition_rate>0.18]\n",
        "Y_pred[Y_pred>0.16].shape"
      ],
      "execution_count": null,
      "outputs": [
        {
          "output_type": "execute_result",
          "data": {
            "text/plain": [
              "(3000,)"
            ]
          },
          "metadata": {
            "tags": []
          },
          "execution_count": 155
        }
      ]
    },
    {
      "cell_type": "code",
      "metadata": {
        "id": "StvGoY5RRomg"
      },
      "source": [
        ""
      ],
      "execution_count": null,
      "outputs": []
    }
  ]
}